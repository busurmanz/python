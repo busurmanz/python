{
 "cells": [
  {
   "cell_type": "code",
   "execution_count": null,
   "metadata": {},
   "outputs": [],
   "source": [
    "import numpy as np\n",
    "import tensorflow as tf\n",
    "import tensorflow_datasets as tfds\n",
    "from tensorflow.keras.preprocessing.image import load_img, img_to_array\n",
    "from tensorflow.keras.layers import Dense, GlobalAveragePooling2D, Dropout\n",
    "import matplotlib.pyplot as plt\n",
    "from google.colab import files\n",
    "\n",
    "train, _ = tfds.load('cats_vs_dogs', split=['train[:100%]'], with_info=True, as_supervised=True)\n",
    "\n",
    "for img, _ in train[0].take(1):\n",
    "  plt.figure()\n",
    "  plt.imshow(img)\n",
    "\n",
    "SIZE = 224\n",
    "def resize_image(img, label):\n",
    "  img = tf.cast(img, tf.float32)\n",
    "  img = tf.image.resize(img, (SIZE, SIZE))\n",
    "  img = img / 255.0\n",
    "  return img, label\n",
    "\n",
    "train_resized = train[0].map(resize_image)\n",
    "train_batches = train_resized.shuffle(1000).batch(16)\n",
    "\n",
    "base_layers = tf.keras.applications.MobileNetV2(input_shape=(SIZE, SIZE, 3), include_top=False)\n",
    "base_layers.trainable = False\n",
    "\n",
    "\n",
    "model = tf.keras.Sequential([\n",
    "                             base_layers,\n",
    "                             GlobalAveragePooling2D(),\n",
    "                             Dropout(0.2),\n",
    "                             Dense(1)\n",
    "])\n",
    "model.compile(optimizer='adam', loss=tf.keras.losses.BinaryCrossentropy(from_logits=True), metrics=['accuracy'])\n",
    "\n",
    "model.fit(train_batches, epochs=3)\n",
    "\n",
    "files.upload()\n",
    "\n",
    "img = load_img('test.jpg')\n",
    "img_array = img_to_array(img)\n",
    "img_resized, _ = resize_image(img_array, _)\n",
    "img_expended = np.expand_dims(img_resized, axis=0)\n",
    "prediction = model.predict(img_expended)[0][0]\n",
    "pred_label = 'КОТ' if prediction < 0.5 else 'СОБАКА'\n",
    "plt.figure()\n",
    "plt.imshow(img)\n",
    "plt.title(f'{pred_label} {prediction}')\n"
   ]
  }
 ],
 "metadata": {
  "language_info": {
   "name": "python"
  }
 },
 "nbformat": 4,
 "nbformat_minor": 2
}
