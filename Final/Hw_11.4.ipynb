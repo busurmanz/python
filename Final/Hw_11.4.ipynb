{
 "cells": [
  {
   "cell_type": "code",
   "execution_count": 1,
   "metadata": {},
   "outputs": [
    {
     "ename": "ModuleNotFoundError",
     "evalue": "No module named 'sympy'",
     "output_type": "error",
     "traceback": [
      "\u001b[0;31m---------------------------------------------------------------------------\u001b[0m",
      "\u001b[0;31mModuleNotFoundError\u001b[0m                       Traceback (most recent call last)",
      "Cell \u001b[0;32mIn[1], line 5\u001b[0m\n\u001b[1;32m      1\u001b[0m \u001b[39m#f(x) = -12x^4*sin(cos(x)) - 18x^3+5x^2 + 10x - 30\u001b[39;00m\n\u001b[1;32m      2\u001b[0m \n\u001b[1;32m      3\u001b[0m  \u001b[39m#Построить график\u001b[39;00m\n\u001b[0;32m----> 5\u001b[0m \u001b[39mfrom\u001b[39;00m \u001b[39msympy\u001b[39;00m \u001b[39mimport\u001b[39;00m \u001b[39m*\u001b[39m\n\u001b[1;32m      6\u001b[0m \u001b[39m# from sympy.abc import x, y, f, g\u001b[39;00m\n\u001b[1;32m      7\u001b[0m \u001b[39m#from sympy import Symbol, sin, cos\u001b[39;00m\n\u001b[1;32m      9\u001b[0m \u001b[39mfrom\u001b[39;00m \u001b[39msympy\u001b[39;00m\u001b[39m.\u001b[39;00m\u001b[39mplotting\u001b[39;00m \u001b[39mimport\u001b[39;00m plot\n",
      "\u001b[0;31mModuleNotFoundError\u001b[0m: No module named 'sympy'"
     ]
    }
   ],
   "source": [
    "#f(x) = -12x^4*sin(cos(x)) - 18x^3+5x^2 + 10x - 30\n",
    "\n",
    " #Построить график\n",
    "\n",
    "from sympy import *\n",
    "# from sympy.abc import x, y, f, g\n",
    "#from sympy import Symbol, sin, cos\n",
    "\n",
    "from sympy.plotting import plot\n",
    "\n",
    "init_printing()\n",
    "\n",
    "x = Symbol('x')\n",
    "f = -12 * x ** 4 * sin (cos (x)) - 18 * x ** 3 + 5 * x**2 +10 * x -30\n",
    "a = plot(f, (x, -7.5, 5))\n",
    "    \n",
    " \n",
    "\n",
    "#Определить корни\n",
    "solveset(f, x)\n",
    " \n",
    "    \n",
    "\n",
    "#Найти интервалы\n",
    "b = [-oo, oo]\n",
    "b[1:1] = solveset(diff(f), x)\n",
    "b\n",
    "\n",
    "\n",
    "\n",
    "# Найти интервалы, на которых функция возрастает\n",
    "# Найти интервалы, на которых функция убывает\n",
    "\n",
    "c = []\n",
    "d = []\n",
    "for i in range(1, len(b)):\n",
    "    boo = is_increasing(f, Interval.open(b[i-1], b[i]))\n",
    "    if boo:\n",
    "        c.append(f\"{b[i-1]} {b[i]}\")\n",
    "    else:\n",
    "        d.append(f\"{b[i-1]} {b[i]}\")\n",
    "print('Возрастает в диапазоне', c)\n",
    "print('Убывает в диапазоне', d)\n",
    "     \n",
    "\n",
    "\n",
    "#  Вычислить вершину\n",
    "#Экстремумы функции\n",
    "e = solveset(diff(f), x)\n",
    "for i in e:\n",
    "    g = f.subs(x, i)\n",
    "    if g < 0:\n",
    "        print(f'Нижний экстремум: x:{i} y:{g}')\n",
    "    elif g > 0:\n",
    "        print(f'Верхний экстремум: x:{i} y:{g}')\n",
    "a = plot(f, (x, -7, 4))\n",
    "\n",
    "\n",
    "\n",
    "# Определить промежутки, на котором f > 0\n",
    "# Определить промежутки, на котором f < 0\n",
    "#Знакопостоянства функции\n",
    "m = [-oo, oo]\n",
    "\n",
    "incr_list = []\n",
    "decr_list = []\n",
    "m[1:1] = solveset(f, x)\n",
    "for i in range(1, len(m)):\n",
    "    boo = is_increasing(f, Interval.open(m[i-1], m[i]))\n",
    "    if boo:\n",
    "        incr_list.append(f'{m[i-1]}, {m[i]}')\n",
    "    else:\n",
    "        decr_list.append(f'{m[i-1]}, {m[i]}')\n",
    "\n",
    "# print(f'{0}{1}{2}{3}{0}', *h)\n",
    "\n",
    "print(\"f > 0:\", *incr_list, sep=\"\\n\")\n",
    "print(\"f < 0:\", *decr_list, sep=\"\\n\")\n",
    "\n"
   ]
  }
 ],
 "metadata": {
  "kernelspec": {
   "display_name": "Python 3.10.7 64-bit",
   "language": "python",
   "name": "python3"
  },
  "language_info": {
   "codemirror_mode": {
    "name": "ipython",
    "version": 3
   },
   "file_extension": ".py",
   "mimetype": "text/x-python",
   "name": "python",
   "nbconvert_exporter": "python",
   "pygments_lexer": "ipython3",
   "version": "3.10.7"
  },
  "orig_nbformat": 4,
  "vscode": {
   "interpreter": {
    "hash": "aee8b7b246df8f9039afb4144a1f6fd8d2ca17a180786b69acc140d282b71a49"
   }
  }
 },
 "nbformat": 4,
 "nbformat_minor": 2
}
